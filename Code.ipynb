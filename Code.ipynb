{
 "cells": [
  {
   "cell_type": "code",
   "execution_count": 68,
   "metadata": {},
   "outputs": [],
   "source": [
    "import pandas as pd"
   ]
  },
  {
   "cell_type": "code",
   "execution_count": 79,
   "metadata": {},
   "outputs": [],
   "source": [
    "df = pd.read_csv(\"YouTubeDataset_withChannelElapsed.csv\")"
   ]
  },
  {
   "cell_type": "code",
   "execution_count": 80,
   "metadata": {},
   "outputs": [],
   "source": [
    "df = df.groupby(\"videoId\", as_index=False).sum()"
   ]
  },
  {
   "cell_type": "code",
   "execution_count": 84,
   "metadata": {},
   "outputs": [
    {
     "data": {
      "text/plain": [
       "2           7831\n",
       "5           1182\n",
       "6           7815\n",
       "7           7905\n",
       "8          36351\n",
       "           ...  \n",
       "555619     11530\n",
       "555620     23496\n",
       "555621     49266\n",
       "555622    314348\n",
       "555626      8992\n",
       "Name: videoViewCount, Length: 308844, dtype: int64"
      ]
     },
     "execution_count": 84,
     "metadata": {},
     "output_type": "execute_result"
    }
   ],
   "source": [
    "df = df[df['videoDislikeCount'] > 0]\n",
    "df = df[df['videoLikeCount'] > 0]\n",
    "df = df[df['VideoCommentCount'] > 0]\n",
    "df = df[df['videoViewCount'] > 0]\n",
    "df[\"videoViewCount\"]"
   ]
  },
  {
   "cell_type": "code",
   "execution_count": 85,
   "metadata": {},
   "outputs": [
    {
     "data": {
      "text/plain": [
       "526.7415199906749"
      ]
     },
     "execution_count": 85,
     "metadata": {},
     "output_type": "execute_result"
    }
   ],
   "source": [
    "avg_likes = df['videoLikeCount'].mean()\n",
    "avg_likes"
   ]
  },
  {
   "cell_type": "code",
   "execution_count": 86,
   "metadata": {},
   "outputs": [
    {
     "name": "stdout",
     "output_type": "stream",
     "text": [
      "0.0114\n"
     ]
    }
   ],
   "source": [
    "df[\"engagement_rate\"] = (df[\"videoLikeCount\"] + df[\"videoDislikeCount\"] + df[\"VideoCommentCount\"]) / df[\"videoViewCount\"]\n",
    "\n",
    "average_engagement_rate = round(df[\"engagement_rate\"].mean(), 4)\n",
    "print(average_engagement_rate)\n"
   ]
  },
  {
   "cell_type": "code",
   "execution_count": 78,
   "metadata": {},
   "outputs": [
    {
     "data": {
      "text/plain": [
       "-0.0546247593454116"
      ]
     },
     "execution_count": 78,
     "metadata": {},
     "output_type": "execute_result"
    }
   ],
   "source": [
    "df[\"engagement\"].mean()"
   ]
  },
  {
   "cell_type": "code",
   "execution_count": 88,
   "metadata": {},
   "outputs": [
    {
     "name": "stdout",
     "output_type": "stream",
     "text": [
      "0.19578933715820312\n"
     ]
    }
   ],
   "source": [
    "metadata_bytes = 500\n",
    "thumbnail_kb = 200\n",
    "\n",
    "metadata_mb = metadata_bytes / (1024**2)\n",
    "thumbnail_mb = thumbnail_kb / 1024\n",
    "\n",
    "\n",
    "storage_per_video_mb = metadata_mb + thumbnail_mb\n",
    "print(storage_per_video_mb)\n"
   ]
  },
  {
   "cell_type": "code",
   "execution_count": 91,
   "metadata": {},
   "outputs": [
    {
     "name": "stdout",
     "output_type": "stream",
     "text": [
      "38169209.7905159\n"
     ]
    }
   ],
   "source": [
    "total_engagements = df[\"videoLikeCount\"].sum() + df[\"videoDislikeCount\"].sum() + df[\"VideoCommentCount\"].sum()\n",
    "\n",
    "total_data_transfer_mb = total_engagements * storage_per_video_mb\n",
    "print(total_data_transfer_mb)"
   ]
  },
  {
   "cell_type": "code",
   "execution_count": 92,
   "metadata": {},
   "outputs": [
    {
     "name": "stdout",
     "output_type": "stream",
     "text": [
      "11974\n"
     ]
    }
   ],
   "source": [
    "total_views = df[\"videoViewCount\"].sum()\n",
    "minutes_in_5_years = 5 * 365 * 24 * 60\n",
    "\n",
    "views_per_minute = round(total_views / minutes_in_5_years)\n",
    "print(views_per_minute)"
   ]
  },
  {
   "cell_type": "code",
   "execution_count": 93,
   "metadata": {},
   "outputs": [
    {
     "name": "stdout",
     "output_type": "stream",
     "text": [
      "2344.381523132324\n"
     ]
    }
   ],
   "source": [
    "data_per_minute_mb = views_per_minute * storage_per_video_mb\n",
    "print(data_per_minute_mb)\n"
   ]
  },
  {
   "cell_type": "code",
   "execution_count": null,
   "metadata": {},
   "outputs": [],
   "source": []
  }
 ],
 "metadata": {
  "kernelspec": {
   "display_name": "Python 3",
   "language": "python",
   "name": "python3"
  },
  "language_info": {
   "codemirror_mode": {
    "name": "ipython",
    "version": 3
   },
   "file_extension": ".py",
   "mimetype": "text/x-python",
   "name": "python",
   "nbconvert_exporter": "python",
   "pygments_lexer": "ipython3",
   "version": "3.10.14"
  }
 },
 "nbformat": 4,
 "nbformat_minor": 2
}
